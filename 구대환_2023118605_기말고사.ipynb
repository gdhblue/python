{
  "nbformat": 4,
  "nbformat_minor": 0,
  "metadata": {
    "colab": {
      "provenance": [],
      "authorship_tag": "ABX9TyPaoUo7Qa6gB4iYVdi0dITA",
      "include_colab_link": true
    },
    "kernelspec": {
      "name": "python3",
      "display_name": "Python 3"
    },
    "language_info": {
      "name": "python"
    }
  },
  "cells": [
    {
      "cell_type": "markdown",
      "metadata": {
        "id": "view-in-github",
        "colab_type": "text"
      },
      "source": [
        "<a href=\"https://colab.research.google.com/github/gdhblue/python/blob/main/%EA%B5%AC%EB%8C%80%ED%99%98_2023118605_%EA%B8%B0%EB%A7%90%EA%B3%A0%EC%82%AC.ipynb\" target=\"_parent\"><img src=\"https://colab.research.google.com/assets/colab-badge.svg\" alt=\"Open In Colab\"/></a>"
      ]
    },
    {
      "cell_type": "code",
      "execution_count": 1,
      "metadata": {
        "id": "mJcBRlmCkaq2"
      },
      "outputs": [],
      "source": [
        "##Python Programming 기말고사\n",
        "## 기술경영학과 23학번 석사과정 구대환 (2023118605)\n"
      ]
    },
    {
      "cell_type": "markdown",
      "source": [
        "데이터 불러오기 테스"
      ],
      "metadata": {
        "id": "QIH-tI_QkoTU"
      }
    },
    {
      "cell_type": "code",
      "source": [
        "import pandas as pd\n",
        "from plotnine import *\n",
        "\n",
        "import matplotlib.pyplot as plt\n",
        "import pandas as pd\n",
        "\n",
        "# 한글 표시\n",
        "import matplotlib.font_manager as fm\n",
        "# 파일 열기\n",
        "df_lib_2020 = pd.read_excel(\"성동구립도서관 장서 대출목록 (2020년 11월).xlsx\")\n",
        "df_lib_2023 = pd.read_excel(\"성동구립도서관 장서 대출목록 (2023년 11월).xlsx\")\n",
        "print(df_lib_2020)\n",
        "print(df_lib_2023)"
      ],
      "metadata": {
        "id": "bSAs6D7nkiHP"
      },
      "execution_count": 1,
      "outputs": []
    }
  ]
}