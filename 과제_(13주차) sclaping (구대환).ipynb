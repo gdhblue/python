{
  "cells": [
    {
      "cell_type": "markdown",
      "metadata": {
        "id": "view-in-github",
        "colab_type": "text"
      },
      "source": [
        "<a href=\"https://colab.research.google.com/github/gdhblue/python/blob/main/%EA%B3%BC%EC%A0%9C_(13%EC%A3%BC%EC%B0%A8)%20sclaping%20(%EA%B5%AC%EB%8C%80%ED%99%98).ipynb\" target=\"_parent\"><img src=\"https://colab.research.google.com/assets/colab-badge.svg\" alt=\"Open In Colab\"/></a>"
      ]
    },
    {
      "cell_type": "markdown",
      "metadata": {
        "id": "H2S39EJ_yeGD"
      },
      "source": [
        "## 한양기술경영전문대학교\n",
        "\n",
        "## Python Programming\n",
        "\n",
        "### Week 10 assignment\n",
        "\n",
        "** 23학번 석사 구대환 (2023118605) **"
      ]
    },
    {
      "cell_type": "code",
      "execution_count": null,
      "metadata": {
        "colab": {
          "base_uri": "https://localhost:8080/"
        },
        "id": "eOEN37wLyeGF",
        "outputId": "78d33331-3385-4a9b-834d-cea8b384ec95"
      },
      "outputs": [
        {
          "output_type": "stream",
          "name": "stdout",
          "text": [
            "4\n",
            "9\n"
          ]
        }
      ],
      "source": [
        "result = 0\n",
        "def adder(num):\n",
        "    global result\n",
        "    result += num\n",
        "    return result\n",
        "\n",
        "print(adder(4))\n",
        "print(adder(5))"
      ]
    },
    {
      "cell_type": "code",
      "execution_count": null,
      "metadata": {
        "colab": {
          "base_uri": "https://localhost:8080/"
        },
        "id": "GG9Pbe5oyeGH",
        "outputId": "5ae191b7-88fb-4467-9e30-f69b85b12516"
      },
      "outputs": [
        {
          "output_type": "stream",
          "name": "stdout",
          "text": [
            "3\n",
            "7\n",
            "3\n",
            "10\n"
          ]
        }
      ],
      "source": [
        "result1 = 0\n",
        "result2 = 0\n",
        "\n",
        "def adder1(num):\n",
        "    global result1\n",
        "    result1 += num\n",
        "    return result1\n",
        "\n",
        "def adder2(num):\n",
        "    global result2\n",
        "    result2 += num\n",
        "    return result2\n",
        "\n",
        "print(adder1(3))\n",
        "print(adder1(4))\n",
        "print(adder2(3))\n",
        "print(adder2(7))\n"
      ]
    },
    {
      "cell_type": "code",
      "execution_count": null,
      "metadata": {
        "id": "wZxVhusLyeGH",
        "outputId": "2e4d761b-2225-44a5-a582-47227105d349",
        "colab": {
          "base_uri": "https://localhost:8080/"
        }
      },
      "outputs": [
        {
          "output_type": "stream",
          "name": "stdout",
          "text": [
            "지구는 4006년에 멸망한다.\n"
          ]
        }
      ],
      "source": [
        "class Service:\n",
        "    secret = \"지구는 4006년에 멸망한다.\"\n",
        "    def setname(self, name):\n",
        "        self.name = name\n",
        "\n",
        "    def sum(self, a, b):\n",
        "        result = a + b\n",
        "        print(\"%s님, %s + %s = %s입니다.\" % (self.name,a, b, result))\n",
        "\n",
        "an = Service()\n",
        "print(an.secret)"
      ]
    },
    {
      "cell_type": "code",
      "execution_count": null,
      "metadata": {
        "id": "ui9VY68QyeGI",
        "outputId": "8d65626a-ecf9-4d7f-dd39-026fffd499c0",
        "colab": {
          "base_uri": "https://localhost:8080/"
        }
      },
      "outputs": [
        {
          "output_type": "stream",
          "name": "stdout",
          "text": [
            "지구는 4006년에 멸망하지 않는다.\n"
          ]
        }
      ],
      "source": [
        "Service.secret\n",
        "\n",
        "Service.secret = \"지구는 4006년에 멸망하지 않는다.\"\n",
        "\n",
        "print(an.secret)\n"
      ]
    },
    {
      "cell_type": "code",
      "execution_count": null,
      "metadata": {
        "id": "dduQRFhByeGI",
        "outputId": "37341979-8722-45c9-f64c-b96eceadcf80",
        "colab": {
          "base_uri": "https://localhost:8080/"
        }
      },
      "outputs": [
        {
          "output_type": "stream",
          "name": "stdout",
          "text": [
            "홍길동님, 1 + 1 = 2입니다.\n"
          ]
        }
      ],
      "source": [
        "an.sum(1, 1)"
      ]
    },
    {
      "cell_type": "code",
      "execution_count": null,
      "metadata": {
        "id": "d7PN-aMbyeGI",
        "outputId": "1dea2c41-7c3a-4dda-f2b4-90809945b749",
        "colab": {
          "base_uri": "https://localhost:8080/"
        }
      },
      "outputs": [
        {
          "output_type": "stream",
          "name": "stdout",
          "text": [
            "홍길동님, 1 + 1 = 2입니다.\n"
          ]
        }
      ],
      "source": [
        "an.setname(\"홍길동\")\n",
        "an.sum(1, 1)"
      ]
    },
    {
      "cell_type": "code",
      "execution_count": null,
      "metadata": {
        "id": "QZFRz82pyeGI",
        "outputId": "dfe314f3-ad92-4952-f727-65d65b448c76",
        "colab": {
          "base_uri": "https://localhost:8080/",
          "height": 106
        }
      },
      "outputs": [
        {
          "output_type": "stream",
          "name": "stdout",
          "text": [
            "김철수\n",
            "박영희\n",
            "지구는 4006년에 멸망하지 않는다.\n",
            "비밀은 없다.\n"
          ]
        },
        {
          "output_type": "execute_result",
          "data": {
            "text/plain": [
              "'지구는 4006년에 멸망하지 않는다.'"
            ],
            "application/vnd.google.colaboratory.intrinsic+json": {
              "type": "string"
            }
          },
          "metadata": {},
          "execution_count": 14
        }
      ],
      "source": [
        "kim = Service()\n",
        "park = Service()\n",
        "\n",
        "kim.setname(\"김철수\")\n",
        "park.setname(\"박영희\")\n",
        "\n",
        "print(kim.name)\n",
        "print(park.name)\n",
        "\n",
        "kim.secret = \"비밀은 없다.\"\n",
        "print(park.secret)\n",
        "\n",
        "print(kim.secret)\n",
        "\n",
        "Service.secret"
      ]
    },
    {
      "cell_type": "code",
      "execution_count": null,
      "metadata": {
        "id": "Q1V46SwHyeGI",
        "outputId": "6f42ff4f-4fd8-4e66-a3bd-3e10fa326df9",
        "colab": {
          "base_uri": "https://localhost:8080/",
          "height": 199
        }
      },
      "outputs": [
        {
          "output_type": "error",
          "ename": "TypeError",
          "evalue": "ignored",
          "traceback": [
            "\u001b[0;31m---------------------------------------------------------------------------\u001b[0m",
            "\u001b[0;31mTypeError\u001b[0m                                 Traceback (most recent call last)",
            "\u001b[0;32m<ipython-input-23-71f7dd6baa7f>\u001b[0m in \u001b[0;36m<cell line: 1>\u001b[0;34m()\u001b[0m\n\u001b[0;32m----> 1\u001b[0;31m \u001b[0mlee\u001b[0m \u001b[0;34m=\u001b[0m \u001b[0mService\u001b[0m\u001b[0;34m(\u001b[0m\u001b[0;34m)\u001b[0m\u001b[0;34m\u001b[0m\u001b[0;34m\u001b[0m\u001b[0m\n\u001b[0m\u001b[1;32m      2\u001b[0m \u001b[0mlee\u001b[0m\u001b[0;34m.\u001b[0m\u001b[0msum\u001b[0m\u001b[0;34m(\u001b[0m\u001b[0;36m1\u001b[0m\u001b[0;34m,\u001b[0m \u001b[0;36m1\u001b[0m\u001b[0;34m)\u001b[0m\u001b[0;34m\u001b[0m\u001b[0;34m\u001b[0m\u001b[0m\n",
            "\u001b[0;31mTypeError\u001b[0m: Service.__init__() missing 1 required positional argument: 'name'"
          ]
        }
      ],
      "source": [
        "lee = Service()\n",
        "lee.sum(1, 1)\n"
      ]
    },
    {
      "cell_type": "code",
      "execution_count": null,
      "metadata": {
        "id": "ZwnNGfa8yeGJ",
        "outputId": "d1a49def-0a6d-473a-9f71-10624d41c805",
        "colab": {
          "base_uri": "https://localhost:8080/"
        }
      },
      "outputs": [
        {
          "output_type": "stream",
          "name": "stdout",
          "text": [
            "박달도사님, 1 + 1 = 2입니다.\n"
          ]
        }
      ],
      "source": [
        "class Service:\n",
        "    secret = \"지구는 4006년에 멸망한다.\"\n",
        "    def __init__(self, name):\n",
        "        self.name = name\n",
        "\n",
        "    def sum(self, a, b):\n",
        "        result = a + b\n",
        "        print(\"%s님, %s + %s = %s입니다.\" % (self.name,a, b, result))\n",
        "\n",
        "\n",
        "an = Service(\"박달도사\")\n",
        "an.sum(1, 1)\n"
      ]
    },
    {
      "cell_type": "code",
      "execution_count": null,
      "metadata": {
        "id": "NxfJVucIyeGJ",
        "outputId": "70a2c650-7c0b-4ffe-d680-568a272f1993",
        "colab": {
          "base_uri": "https://localhost:8080/"
        }
      },
      "outputs": [
        {
          "output_type": "execute_result",
          "data": {
            "text/plain": [
              "__main__.FourCal"
            ]
          },
          "metadata": {},
          "execution_count": 22
        }
      ],
      "source": [
        "class FourCal:\n",
        "    pass\n",
        "\n",
        "a= FourCal()\n",
        "type(a)"
      ]
    },
    {
      "cell_type": "code",
      "execution_count": null,
      "metadata": {
        "id": "psYkpzv0yeGJ",
        "outputId": "fff9b33a-5963-4495-e974-ec1c4566eb9c",
        "colab": {
          "base_uri": "https://localhost:8080/"
        }
      },
      "outputs": [
        {
          "output_type": "stream",
          "name": "stdout",
          "text": [
            "4\n",
            "2\n"
          ]
        }
      ],
      "source": [
        "class FourCal:\n",
        "    def setdata(self, first, second):\n",
        "        self.first = first\n",
        "        self.second = second\n",
        "    def sum(self):\n",
        "        result = self.first + self.second\n",
        "        return result\n",
        "\n",
        "a= FourCal()\n",
        "a.setdata(4, 2)\n",
        "\n",
        "print(a.first)\n",
        "print(a.second)"
      ]
    },
    {
      "cell_type": "code",
      "execution_count": null,
      "metadata": {
        "id": "mitvM2OnyeGJ",
        "outputId": "4cb9cd9e-c380-42c8-9419-01c86e2220bb",
        "colab": {
          "base_uri": "https://localhost:8080/"
        }
      },
      "outputs": [
        {
          "output_type": "stream",
          "name": "stdout",
          "text": [
            "6\n"
          ]
        }
      ],
      "source": [
        "a = FourCal()\n",
        "a.setdata(4, 2)\n",
        "print(a.sum())"
      ]
    },
    {
      "cell_type": "code",
      "execution_count": null,
      "metadata": {
        "id": "YmTfwD-6yeGJ"
      },
      "outputs": [],
      "source": [
        "#사칙연산 클래스 만들기\n",
        "class FourCal:\n",
        "    def setdata(self, first, second):\n",
        "        self.first = first\n",
        "        self.second = second\n",
        "    def sum(self):\n",
        "        result = self.first + self.second\n",
        "        return result\n",
        "    def sub(self):\n",
        "        result = self.first - self.second\n",
        "        return result\n",
        "    def mul(self):\n",
        "        result = self.first * self.second\n",
        "        return result\n",
        "    def div(self):\n",
        "        result = self.first / self.second\n",
        "        return result\n",
        "\n",
        "a = FourCal()\n",
        "b = FourCal()\n",
        "\n",
        "a.setdata(4, 2)\n",
        "b.setdata(3, 7)\n",
        "\n",
        "print(a.sum())\n",
        "print(a.mul())\n",
        "print(a.sub())\n",
        "print(a.div())\n",
        "print(b.sub())\n"
      ]
    },
    {
      "cell_type": "code",
      "execution_count": null,
      "metadata": {
        "id": "TcMNoaiEyeGJ",
        "outputId": "cf6e67e2-f665-4cf5-db7a-690bee3ac556",
        "colab": {
          "base_uri": "https://localhost:8080/"
        }
      },
      "outputs": [
        {
          "output_type": "stream",
          "name": "stdout",
          "text": [
            "Player1: [1, 2, 3]\n",
            "Player2: [4, 6, 5]\n",
            "Player2 Win!\n"
          ]
        }
      ],
      "source": [
        "import random\n",
        "\n",
        "player1_dice = []\n",
        "player2_dice = []\n",
        "\n",
        "for i in range(3):\n",
        "    player1_dice.append(random.randint(1, 6))\n",
        "    player2_dice.append(random.randint(1, 6))\n",
        "\n",
        "print(\"Player1:\", str(player1_dice))\n",
        "print(\"Player2:\", str(player2_dice))\n",
        "\n",
        "if sum(player1_dice) == sum(player2_dice):\n",
        "    print(\"Draw\")\n",
        "elif sum(player1_dice) > sum(player2_dice):\n",
        "    print(\"Player1 Win!\")\n",
        "else:\n",
        "    print(\"Player2 Win!\")\n"
      ]
    },
    {
      "cell_type": "code",
      "execution_count": null,
      "metadata": {
        "id": "CefvJHHHyeGJ",
        "outputId": "5869eea7-a23e-4cc1-f455-353922e74527",
        "colab": {
          "base_uri": "https://localhost:8080/"
        }
      },
      "outputs": [
        {
          "output_type": "stream",
          "name": "stdout",
          "text": [
            "Player 1 rolled [5, 5, 6] sum: 16\n",
            "Player 2 rolled [5, 1, 3] sum: 9\n",
            "Player1 Win!\n"
          ]
        }
      ],
      "source": [
        "from random import randint\n",
        "\n",
        "class Player:\n",
        "    def __init__(self, name):\n",
        "        self.name = name\n",
        "        self.dice = []\n",
        "\n",
        "    def roll_dice(self):\n",
        "        self.dice = []\n",
        "        for i in range(3):\n",
        "            self.dice.append(randint(1, 6))\n",
        "\n",
        "    def get_dice(self):\n",
        "        return self.dice\n",
        "\n",
        "    def sum_dice(self):\n",
        "        return sum(self.dice)\n",
        "\n",
        "\n",
        "player1 = Player(\"Player1\")\n",
        "player2 = Player(\"Player2\")\n",
        "\n",
        "player1.roll_dice()\n",
        "player2.roll_dice()\n",
        "\n",
        "print(\"Player 1 rolled \" + str(player1.get_dice()) + \" sum: \" + str(player1.sum_dice()))\n",
        "print(\"Player 2 rolled \" + str(player2.get_dice()) + \" sum: \" + str(player2.sum_dice()))\n",
        "\n",
        "if player1.sum_dice() == player2.sum_dice():\n",
        "    print(\"Draw\")\n",
        "elif player1.sum_dice() > player2.sum_dice():\n",
        "    print(\"Player1 Win!\")\n",
        "else:\n",
        "    print(\"Player2 Win!\")\n",
        "\n"
      ]
    }
  ],
  "metadata": {
    "kernelspec": {
      "display_name": "Python 3",
      "language": "python",
      "name": "python3"
    },
    "language_info": {
      "codemirror_mode": {
        "name": "ipython",
        "version": 3
      },
      "file_extension": ".py",
      "mimetype": "text/x-python",
      "name": "python",
      "nbconvert_exporter": "python",
      "pygments_lexer": "ipython3",
      "version": "3.9.6"
    },
    "colab": {
      "provenance": [],
      "include_colab_link": true
    }
  },
  "nbformat": 4,
  "nbformat_minor": 0
}